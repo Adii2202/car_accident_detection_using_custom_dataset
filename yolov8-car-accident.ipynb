{
  "cells": [
    {
      "cell_type": "code",
      "execution_count": 1,
      "metadata": {
        "colab": {
          "base_uri": "https://localhost:8080/"
        },
        "id": "nxCoVrU5ccuh",
        "outputId": "4f77c9ca-0686-44fd-8c24-daa53d4e3eb0"
      },
      "outputs": [
        {
          "name": "stdout",
          "output_type": "stream",
          "text": [
            "Fri Feb  9 15:17:24 2024       \n",
            "+---------------------------------------------------------------------------------------+\n",
            "| NVIDIA-SMI 535.104.05             Driver Version: 535.104.05   CUDA Version: 12.2     |\n",
            "|-----------------------------------------+----------------------+----------------------+\n",
            "| GPU  Name                 Persistence-M | Bus-Id        Disp.A | Volatile Uncorr. ECC |\n",
            "| Fan  Temp   Perf          Pwr:Usage/Cap |         Memory-Usage | GPU-Util  Compute M. |\n",
            "|                                         |                      |               MIG M. |\n",
            "|=========================================+======================+======================|\n",
            "|   0  Tesla T4                       Off | 00000000:00:04.0 Off |                    0 |\n",
            "| N/A   49C    P8              10W /  70W |      0MiB / 15360MiB |      0%      Default |\n",
            "|                                         |                      |                  N/A |\n",
            "+-----------------------------------------+----------------------+----------------------+\n",
            "                                                                                         \n",
            "+---------------------------------------------------------------------------------------+\n",
            "| Processes:                                                                            |\n",
            "|  GPU   GI   CI        PID   Type   Process name                            GPU Memory |\n",
            "|        ID   ID                                                             Usage      |\n",
            "|=======================================================================================|\n",
            "|  No running processes found                                                           |\n",
            "+---------------------------------------------------------------------------------------+\n"
          ]
        }
      ],
      "source": [
        "!nvidia-smi"
      ]
    },
    {
      "cell_type": "code",
      "execution_count": 2,
      "metadata": {
        "colab": {
          "base_uri": "https://localhost:8080/"
        },
        "id": "CjpPg4mGKc1v",
        "outputId": "0ecc9766-29f0-4210-9c31-9e2f5eb33a9f"
      },
      "outputs": [
        {
          "name": "stdout",
          "output_type": "stream",
          "text": [
            "/content\n"
          ]
        }
      ],
      "source": [
        "import os\n",
        "HOME = os.getcwd()\n",
        "print(HOME)"
      ]
    },
    {
      "cell_type": "markdown",
      "metadata": {
        "id": "3C3EO_2zNChu"
      },
      "source": [
        "## Install YOLOv8\n",
        "\n",
        "⚠️ YOLOv8 is still under heavy development. Breaking changes are being introduced almost weekly. We strive to make our YOLOv8 notebooks work with the latest version of the library. Last tests took place on **27.01.2023** with version **YOLOv8.0.20**.\n",
        "\n",
        "If you notice that our notebook behaves incorrectly - especially if you experience errors that prevent you from going through the tutorial - don't hesitate! Let us know and open an [issue](https://github.com/roboflow/notebooks/issues) on the Roboflow Notebooks repository.\n",
        "\n",
        "YOLOv8 can be installed in two ways - from the source and via pip. This is because it is the first iteration of YOLO to have an official package."
      ]
    },
    {
      "cell_type": "code",
      "execution_count": 3,
      "metadata": {
        "colab": {
          "base_uri": "https://localhost:8080/"
        },
        "id": "tdSMcABDNKW-",
        "outputId": "f913768a-5db3-48ab-ea44-0a58cab41655"
      },
      "outputs": [
        {
          "name": "stderr",
          "output_type": "stream",
          "text": [
            "Ultralytics YOLOv8.0.20 🚀 Python-3.10.12 torch-2.1.0+cu121 CUDA:0 (Tesla T4, 15102MiB)\n",
            "Setup complete ✅ (2 CPUs, 12.7 GB RAM, 26.3/78.2 GB disk)\n"
          ]
        }
      ],
      "source": [
        "# Pip install method (recommended)\n",
        "\n",
        "!pip install ultralytics==8.0.20\n",
        "\n",
        "from IPython import display\n",
        "display.clear_output()\n",
        "\n",
        "import ultralytics\n",
        "ultralytics.checks()"
      ]
    },
    {
      "cell_type": "code",
      "execution_count": 4,
      "metadata": {
        "id": "VOEYrlBoP9-E"
      },
      "outputs": [],
      "source": [
        "from ultralytics import YOLO\n",
        "\n",
        "from IPython.display import display, Image"
      ]
    },
    {
      "cell_type": "markdown",
      "metadata": {
        "id": "HnnZSm5OQfPQ"
      },
      "source": [
        "## CLI Basics"
      ]
    },
    {
      "cell_type": "markdown",
      "metadata": {
        "id": "K33S7zlkQku0"
      },
      "source": [
        "If you want to train, validate or run inference on models and don't need to make any modifications to the code, using YOLO command line interface is the easiest way to get started. Read more about CLI in [Ultralytics YOLO Docs](https://v8docs.ultralytics.com/cli/).\n",
        "\n",
        "```\n",
        "yolo task=detect    mode=train    model=yolov8n.yaml      args...\n",
        "          classify       predict        yolov8n-cls.yaml  args...\n",
        "          segment        val            yolov8n-seg.yaml  args...\n",
        "                         export         yolov8n.pt        format=onnx  args...\n",
        "```"
      ]
    },
    {
      "cell_type": "markdown",
      "metadata": {
        "id": "s5RGYA6sPgEd"
      },
      "source": [
        "## Inference with Pre-trained COCO Model"
      ]
    },
    {
      "cell_type": "markdown",
      "metadata": {
        "id": "fT1qD4toTTw0"
      },
      "source": [
        "### 💻 CLI"
      ]
    },
    {
      "cell_type": "markdown",
      "metadata": {
        "id": "ZaE1kLS8R4CV"
      },
      "source": [
        "`yolo mode=predict` runs YOLOv8 inference on a variety of sources, downloading models automatically from the latest YOLOv8 release, and saving results to `runs/predict`."
      ]
    },
    {
      "cell_type": "code",
      "execution_count": 5,
      "metadata": {
        "colab": {
          "base_uri": "https://localhost:8080/"
        },
        "id": "FDbMt_M6PiXb",
        "outputId": "6dc69217-5f3d-4979-a05d-f9eb09c791aa"
      },
      "outputs": [
        {
          "name": "stdout",
          "output_type": "stream",
          "text": [
            "/content\n",
            "Downloading https://github.com/ultralytics/assets/releases/download/v0.0.0/yolov8n.pt to yolov8n.pt...\n",
            "100% 6.23M/6.23M [00:00<00:00, 128MB/s]\n",
            "\n",
            "2024-02-09 15:18:53.579347: E external/local_xla/xla/stream_executor/cuda/cuda_dnn.cc:9261] Unable to register cuDNN factory: Attempting to register factory for plugin cuDNN when one has already been registered\n",
            "2024-02-09 15:18:53.579405: E external/local_xla/xla/stream_executor/cuda/cuda_fft.cc:607] Unable to register cuFFT factory: Attempting to register factory for plugin cuFFT when one has already been registered\n",
            "2024-02-09 15:18:53.580769: E external/local_xla/xla/stream_executor/cuda/cuda_blas.cc:1515] Unable to register cuBLAS factory: Attempting to register factory for plugin cuBLAS when one has already been registered\n",
            "2024-02-09 15:18:54.588414: W tensorflow/compiler/tf2tensorrt/utils/py_utils.cc:38] TF-TRT Warning: Could not find TensorRT\n",
            "Ultralytics YOLOv8.0.20 🚀 Python-3.10.12 torch-2.1.0+cu121 CUDA:0 (Tesla T4, 15102MiB)\n",
            "YOLOv8n summary (fused): 168 layers, 3151904 parameters, 0 gradients, 8.7 GFLOPs\n",
            "Downloading https://media.roboflow.com/notebooks/examples/dog.jpeg to dog.jpeg...\n",
            "100% 104k/104k [00:00<00:00, 74.8MB/s]\n",
            "WARNING ⚠️ NMS time limit 0.550s exceeded\n",
            "image 1/1 /content/dog.jpeg: 640x384 1 person, 1 car, 1 dog, 95.4ms\n",
            "Speed: 0.6ms pre-process, 95.4ms inference, 747.0ms postprocess per image at shape (1, 3, 640, 640)\n",
            "Results saved to \u001b[1mruns/detect/predict\u001b[0m\n"
          ]
        }
      ],
      "source": [
        "%cd {HOME}\n",
        "!yolo task=detect mode=predict model=yolov8n.pt conf=0.25 source='https://media.roboflow.com/notebooks/examples/dog.jpeg' save=True"
      ]
    },
    {
      "cell_type": "code",
      "execution_count": 6,
      "metadata": {
        "colab": {
          "base_uri": "https://localhost:8080/"
        },
        "id": "BSd93ZJzZZKt",
        "outputId": "3e86687f-2647-4016-c965-799ea2d0885a"
      },
      "outputs": [
        {
          "name": "stdout",
          "output_type": "stream",
          "text": [
            "/content/datasets\n",
            "Archive:  /content/crash_car.zip\n",
            "   creating: crash_car/images/\n",
            "   creating: crash_car/images/training/\n",
            "  inflating: crash_car/images/training/car_0.jpg  \n",
            "  inflating: crash_car/images/training/car_0.txt  \n",
            "  inflating: crash_car/images/training/car_1.jpg  \n",
            "  inflating: crash_car/images/training/car_1.txt  \n",
            "  inflating: crash_car/images/training/car_10.jpg  \n",
            "  inflating: crash_car/images/training/car_10.txt  \n",
            "  inflating: crash_car/images/training/car_11.jpg  \n",
            "  inflating: crash_car/images/training/car_11.txt  \n",
            "  inflating: crash_car/images/training/car_12.jpg  \n",
            "  inflating: crash_car/images/training/car_12.txt  \n",
            "  inflating: crash_car/images/training/car_13.jpg  \n",
            "  inflating: crash_car/images/training/car_13.txt  \n",
            "  inflating: crash_car/images/training/car_14.jpg  \n",
            "  inflating: crash_car/images/training/car_14.txt  \n",
            "  inflating: crash_car/images/training/car_15.jpg  \n",
            "  inflating: crash_car/images/training/car_15.txt  \n",
            "  inflating: crash_car/images/training/car_16.jpg  \n",
            "  inflating: crash_car/images/training/car_16.txt  \n",
            "  inflating: crash_car/images/training/car_17.jpg  \n",
            "  inflating: crash_car/images/training/car_17.txt  \n",
            "  inflating: crash_car/images/training/car_18.jpg  \n",
            "  inflating: crash_car/images/training/car_18.txt  \n",
            "  inflating: crash_car/images/training/car_19.jpg  \n",
            "  inflating: crash_car/images/training/car_19.txt  \n",
            "  inflating: crash_car/images/training/car_2.jpg  \n",
            "  inflating: crash_car/images/training/car_2.txt  \n",
            "  inflating: crash_car/images/training/car_20.jpg  \n",
            "  inflating: crash_car/images/training/car_20.txt  \n",
            "  inflating: crash_car/images/training/car_3.jpg  \n",
            "  inflating: crash_car/images/training/car_3.txt  \n",
            "  inflating: crash_car/images/training/car_4.jpg  \n",
            "  inflating: crash_car/images/training/car_4.txt  \n",
            "  inflating: crash_car/images/training/car_5.jpg  \n",
            "  inflating: crash_car/images/training/car_5.txt  \n",
            "  inflating: crash_car/images/training/car_6.jpg  \n",
            "  inflating: crash_car/images/training/car_6.txt  \n",
            "  inflating: crash_car/images/training/car_7.jpg  \n",
            "  inflating: crash_car/images/training/car_7.txt  \n",
            "  inflating: crash_car/images/training/car_8.jpg  \n",
            "  inflating: crash_car/images/training/car_8.txt  \n",
            "  inflating: crash_car/images/training/car_9.jpg  \n",
            "  inflating: crash_car/images/training/car_9.txt  \n",
            " extracting: crash_car/images/training/classes.txt  \n",
            "   creating: crash_car/images/validation/\n",
            "  inflating: crash_car/images/validation/car_0.jpg  \n",
            "  inflating: crash_car/images/validation/car_0.txt  \n",
            "  inflating: crash_car/images/validation/car_1.jpg  \n",
            "  inflating: crash_car/images/validation/car_1.txt  \n",
            "  inflating: crash_car/images/validation/car_10.jpg  \n",
            "  inflating: crash_car/images/validation/car_10.txt  \n",
            "  inflating: crash_car/images/validation/car_11.jpg  \n",
            "  inflating: crash_car/images/validation/car_11.txt  \n",
            "  inflating: crash_car/images/validation/car_12.jpg  \n",
            "  inflating: crash_car/images/validation/car_12.txt  \n",
            "  inflating: crash_car/images/validation/car_13.jpg  \n",
            "  inflating: crash_car/images/validation/car_13.txt  \n",
            "  inflating: crash_car/images/validation/car_14.jpg  \n",
            "  inflating: crash_car/images/validation/car_14.txt  \n",
            "  inflating: crash_car/images/validation/car_15.jpg  \n",
            "  inflating: crash_car/images/validation/car_15.txt  \n",
            "  inflating: crash_car/images/validation/car_16.jpg  \n",
            "  inflating: crash_car/images/validation/car_16.txt  \n",
            "  inflating: crash_car/images/validation/car_17.jpg  \n",
            "  inflating: crash_car/images/validation/car_17.txt  \n",
            "  inflating: crash_car/images/validation/car_18.jpg  \n",
            "  inflating: crash_car/images/validation/car_18.txt  \n",
            "  inflating: crash_car/images/validation/car_19.jpg  \n",
            "  inflating: crash_car/images/validation/car_19.txt  \n",
            "  inflating: crash_car/images/validation/car_2.jpg  \n",
            "  inflating: crash_car/images/validation/car_2.txt  \n",
            "  inflating: crash_car/images/validation/car_20.jpg  \n",
            "  inflating: crash_car/images/validation/car_20.txt  \n",
            "  inflating: crash_car/images/validation/car_3.jpg  \n",
            "  inflating: crash_car/images/validation/car_3.txt  \n",
            "  inflating: crash_car/images/validation/car_4.jpg  \n",
            "  inflating: crash_car/images/validation/car_4.txt  \n",
            "  inflating: crash_car/images/validation/car_5.jpg  \n",
            "  inflating: crash_car/images/validation/car_5.txt  \n",
            "  inflating: crash_car/images/validation/car_6.jpg  \n",
            "  inflating: crash_car/images/validation/car_6.txt  \n",
            "  inflating: crash_car/images/validation/car_7.jpg  \n",
            "  inflating: crash_car/images/validation/car_7.txt  \n",
            "  inflating: crash_car/images/validation/car_8.jpg  \n",
            "  inflating: crash_car/images/validation/car_8.txt  \n",
            "  inflating: crash_car/images/validation/car_9.jpg  \n",
            "  inflating: crash_car/images/validation/car_9.txt  \n",
            " extracting: crash_car/images/validation/classes.txt  \n",
            "   creating: crash_car/labels/\n",
            "   creating: crash_car/labels/training/\n",
            "  inflating: crash_car/labels/training/car_0.jpg  \n",
            "  inflating: crash_car/labels/training/car_0.txt  \n",
            "  inflating: crash_car/labels/training/car_1.jpg  \n",
            "  inflating: crash_car/labels/training/car_1.txt  \n",
            "  inflating: crash_car/labels/training/car_10.jpg  \n",
            "  inflating: crash_car/labels/training/car_10.txt  \n",
            "  inflating: crash_car/labels/training/car_11.jpg  \n",
            "  inflating: crash_car/labels/training/car_11.txt  \n",
            "  inflating: crash_car/labels/training/car_12.jpg  \n",
            "  inflating: crash_car/labels/training/car_12.txt  \n",
            "  inflating: crash_car/labels/training/car_13.jpg  \n",
            "  inflating: crash_car/labels/training/car_13.txt  \n",
            "  inflating: crash_car/labels/training/car_14.jpg  \n",
            "  inflating: crash_car/labels/training/car_14.txt  \n",
            "  inflating: crash_car/labels/training/car_15.jpg  \n",
            "  inflating: crash_car/labels/training/car_15.txt  \n",
            "  inflating: crash_car/labels/training/car_16.jpg  \n",
            "  inflating: crash_car/labels/training/car_16.txt  \n",
            "  inflating: crash_car/labels/training/car_17.jpg  \n",
            "  inflating: crash_car/labels/training/car_17.txt  \n",
            "  inflating: crash_car/labels/training/car_18.jpg  \n",
            "  inflating: crash_car/labels/training/car_18.txt  \n",
            "  inflating: crash_car/labels/training/car_19.jpg  \n",
            "  inflating: crash_car/labels/training/car_19.txt  \n",
            "  inflating: crash_car/labels/training/car_2.jpg  \n",
            "  inflating: crash_car/labels/training/car_2.txt  \n",
            "  inflating: crash_car/labels/training/car_20.jpg  \n",
            "  inflating: crash_car/labels/training/car_20.txt  \n",
            "  inflating: crash_car/labels/training/car_3.jpg  \n",
            "  inflating: crash_car/labels/training/car_3.txt  \n",
            "  inflating: crash_car/labels/training/car_4.jpg  \n",
            "  inflating: crash_car/labels/training/car_4.txt  \n",
            "  inflating: crash_car/labels/training/car_5.jpg  \n",
            "  inflating: crash_car/labels/training/car_5.txt  \n",
            "  inflating: crash_car/labels/training/car_6.jpg  \n",
            "  inflating: crash_car/labels/training/car_6.txt  \n",
            "  inflating: crash_car/labels/training/car_7.jpg  \n",
            "  inflating: crash_car/labels/training/car_7.txt  \n",
            "  inflating: crash_car/labels/training/car_8.jpg  \n",
            "  inflating: crash_car/labels/training/car_8.txt  \n",
            "  inflating: crash_car/labels/training/car_9.jpg  \n",
            "  inflating: crash_car/labels/training/car_9.txt  \n",
            " extracting: crash_car/labels/training/classes.txt  \n",
            "   creating: crash_car/labels/validation/\n",
            "  inflating: crash_car/labels/validation/car_0.jpg  \n",
            "  inflating: crash_car/labels/validation/car_0.txt  \n",
            "  inflating: crash_car/labels/validation/car_1.jpg  \n",
            "  inflating: crash_car/labels/validation/car_1.txt  \n",
            "  inflating: crash_car/labels/validation/car_10.jpg  \n",
            "  inflating: crash_car/labels/validation/car_10.txt  \n",
            "  inflating: crash_car/labels/validation/car_11.jpg  \n",
            "  inflating: crash_car/labels/validation/car_11.txt  \n",
            "  inflating: crash_car/labels/validation/car_12.jpg  \n",
            "  inflating: crash_car/labels/validation/car_12.txt  \n",
            "  inflating: crash_car/labels/validation/car_13.jpg  \n",
            "  inflating: crash_car/labels/validation/car_13.txt  \n",
            "  inflating: crash_car/labels/validation/car_14.jpg  \n",
            "  inflating: crash_car/labels/validation/car_14.txt  \n",
            "  inflating: crash_car/labels/validation/car_15.jpg  \n",
            "  inflating: crash_car/labels/validation/car_15.txt  \n",
            "  inflating: crash_car/labels/validation/car_16.jpg  \n",
            "  inflating: crash_car/labels/validation/car_16.txt  \n",
            "  inflating: crash_car/labels/validation/car_17.jpg  \n",
            "  inflating: crash_car/labels/validation/car_17.txt  \n",
            "  inflating: crash_car/labels/validation/car_18.jpg  \n",
            "  inflating: crash_car/labels/validation/car_18.txt  \n",
            "  inflating: crash_car/labels/validation/car_19.jpg  \n",
            "  inflating: crash_car/labels/validation/car_19.txt  \n",
            "  inflating: crash_car/labels/validation/car_2.jpg  \n",
            "  inflating: crash_car/labels/validation/car_2.txt  \n",
            "  inflating: crash_car/labels/validation/car_20.jpg  \n",
            "  inflating: crash_car/labels/validation/car_20.txt  \n",
            "  inflating: crash_car/labels/validation/car_3.jpg  \n",
            "  inflating: crash_car/labels/validation/car_3.txt  \n",
            "  inflating: crash_car/labels/validation/car_4.jpg  \n",
            "  inflating: crash_car/labels/validation/car_4.txt  \n",
            "  inflating: crash_car/labels/validation/car_5.jpg  \n",
            "  inflating: crash_car/labels/validation/car_5.txt  \n",
            "  inflating: crash_car/labels/validation/car_6.jpg  \n",
            "  inflating: crash_car/labels/validation/car_6.txt  \n",
            "  inflating: crash_car/labels/validation/car_7.jpg  \n",
            "  inflating: crash_car/labels/validation/car_7.txt  \n",
            "  inflating: crash_car/labels/validation/car_8.jpg  \n",
            "  inflating: crash_car/labels/validation/car_8.txt  \n",
            "  inflating: crash_car/labels/validation/car_9.jpg  \n",
            "  inflating: crash_car/labels/validation/car_9.txt  \n",
            " extracting: crash_car/labels/validation/classes.txt  \n"
          ]
        }
      ],
      "source": [
        "!mkdir {HOME}/datasets\n",
        "%cd {HOME}/datasets\n",
        "\n",
        "!unzip /content/crash_car.zip"
      ]
    },
    {
      "cell_type": "markdown",
      "metadata": {
        "id": "YUjFBKKqXa-u"
      },
      "source": [
        "## Custom Training"
      ]
    },
    {
      "cell_type": "code",
      "execution_count": 8,
      "metadata": {
        "colab": {
          "base_uri": "https://localhost:8080/"
        },
        "id": "D2YkphuiaE7_",
        "outputId": "ed5135ac-8469-446a-8411-879908efa27b"
      },
      "outputs": [
        {
          "name": "stdout",
          "output_type": "stream",
          "text": [
            "/content\n",
            "Ultralytics YOLOv8.0.20 🚀 Python-3.10.12 torch-2.1.0+cu121 CUDA:0 (Tesla T4, 15102MiB)\n",
            "\u001b[34m\u001b[1myolo/engine/trainer: \u001b[0mtask=detect, mode=train, model=yolov8s.yaml, data=/content/datasets/crash_car/data.yaml, epochs=10, patience=50, batch=16, imgsz=800, save=True, cache=False, device=, workers=8, project=None, name=None, exist_ok=False, pretrained=False, optimizer=SGD, verbose=True, seed=0, deterministic=True, single_cls=False, image_weights=False, rect=False, cos_lr=False, close_mosaic=10, resume=False, overlap_mask=True, mask_ratio=4, dropout=False, val=True, save_json=False, save_hybrid=False, conf=0.001, iou=0.7, max_det=300, half=False, dnn=False, plots=True, source=ultralytics/assets/, show=False, save_txt=False, save_conf=False, save_crop=False, hide_labels=False, hide_conf=False, vid_stride=1, line_thickness=3, visualize=False, augment=False, agnostic_nms=False, classes=None, retina_masks=False, boxes=True, format=torchscript, keras=False, optimize=False, int8=False, dynamic=False, simplify=False, opset=17, workspace=4, nms=False, lr0=0.01, lrf=0.01, momentum=0.937, weight_decay=0.001, warmup_epochs=3.0, warmup_momentum=0.8, warmup_bias_lr=0.1, box=7.5, cls=0.5, dfl=1.5, fl_gamma=0.0, label_smoothing=0.0, nbs=64, hsv_h=0.015, hsv_s=0.7, hsv_v=0.4, degrees=0.0, translate=0.1, scale=0.5, shear=0.0, perspective=0.0, flipud=0.0, fliplr=0.5, mosaic=1.0, mixup=0.0, copy_paste=0.0, cfg=None, v5loader=False, save_dir=runs/detect/train2\n",
            "2024-02-09 15:40:00.913455: E external/local_xla/xla/stream_executor/cuda/cuda_dnn.cc:9261] Unable to register cuDNN factory: Attempting to register factory for plugin cuDNN when one has already been registered\n",
            "2024-02-09 15:40:00.913509: E external/local_xla/xla/stream_executor/cuda/cuda_fft.cc:607] Unable to register cuFFT factory: Attempting to register factory for plugin cuFFT when one has already been registered\n",
            "2024-02-09 15:40:00.914745: E external/local_xla/xla/stream_executor/cuda/cuda_blas.cc:1515] Unable to register cuBLAS factory: Attempting to register factory for plugin cuBLAS when one has already been registered\n",
            "2024-02-09 15:40:01.914822: W tensorflow/compiler/tf2tensorrt/utils/py_utils.cc:38] TF-TRT Warning: Could not find TensorRT\n",
            "Overriding model.yaml nc=80 with nc=2\n",
            "\n",
            "                   from  n    params  module                                       arguments                     \n",
            "  0                  -1  1       928  ultralytics.nn.modules.Conv                  [3, 32, 3, 2]                 \n",
            "  1                  -1  1     18560  ultralytics.nn.modules.Conv                  [32, 64, 3, 2]                \n",
            "  2                  -1  1     29056  ultralytics.nn.modules.C2f                   [64, 64, 1, True]             \n",
            "  3                  -1  1     73984  ultralytics.nn.modules.Conv                  [64, 128, 3, 2]               \n",
            "  4                  -1  2    197632  ultralytics.nn.modules.C2f                   [128, 128, 2, True]           \n",
            "  5                  -1  1    295424  ultralytics.nn.modules.Conv                  [128, 256, 3, 2]              \n",
            "  6                  -1  2    788480  ultralytics.nn.modules.C2f                   [256, 256, 2, True]           \n",
            "  7                  -1  1   1180672  ultralytics.nn.modules.Conv                  [256, 512, 3, 2]              \n",
            "  8                  -1  1   1838080  ultralytics.nn.modules.C2f                   [512, 512, 1, True]           \n",
            "  9                  -1  1    656896  ultralytics.nn.modules.SPPF                  [512, 512, 5]                 \n",
            " 10                  -1  1         0  torch.nn.modules.upsampling.Upsample         [None, 2, 'nearest']          \n",
            " 11             [-1, 6]  1         0  ultralytics.nn.modules.Concat                [1]                           \n",
            " 12                  -1  1    591360  ultralytics.nn.modules.C2f                   [768, 256, 1]                 \n",
            " 13                  -1  1         0  torch.nn.modules.upsampling.Upsample         [None, 2, 'nearest']          \n",
            " 14             [-1, 4]  1         0  ultralytics.nn.modules.Concat                [1]                           \n",
            " 15                  -1  1    148224  ultralytics.nn.modules.C2f                   [384, 128, 1]                 \n",
            " 16                  -1  1    147712  ultralytics.nn.modules.Conv                  [128, 128, 3, 2]              \n",
            " 17            [-1, 12]  1         0  ultralytics.nn.modules.Concat                [1]                           \n",
            " 18                  -1  1    493056  ultralytics.nn.modules.C2f                   [384, 256, 1]                 \n",
            " 19                  -1  1    590336  ultralytics.nn.modules.Conv                  [256, 256, 3, 2]              \n",
            " 20             [-1, 9]  1         0  ultralytics.nn.modules.Concat                [1]                           \n",
            " 21                  -1  1   1969152  ultralytics.nn.modules.C2f                   [768, 512, 1]                 \n",
            " 22        [15, 18, 21]  1   2116822  ultralytics.nn.modules.Detect                [2, [128, 256, 512]]          \n",
            "Model summary: 225 layers, 11136374 parameters, 11136358 gradients, 28.6 GFLOPs\n",
            "\n",
            "Transferred 349/355 items from pretrained weights\n",
            "\u001b[34m\u001b[1moptimizer:\u001b[0m SGD(lr=0.01) with parameter groups 57 weight(decay=0.0), 64 weight(decay=0.001), 63 bias\n",
            "\u001b[34m\u001b[1mtrain: \u001b[0mScanning /content/datasets/crash_car/labels/training.cache... 21 images, 0 backgrounds, 0 corrupt: 100% 21/21 [00:00<?, ?it/s]\n",
            "\u001b[34m\u001b[1malbumentations: \u001b[0mBlur(p=0.01, blur_limit=(3, 7)), MedianBlur(p=0.01, blur_limit=(3, 7)), ToGray(p=0.01), CLAHE(p=0.01, clip_limit=(1, 4.0), tile_grid_size=(8, 8))\n",
            "\u001b[34m\u001b[1mval: \u001b[0mScanning /content/datasets/crash_car/labels/validation.cache... 21 images, 0 backgrounds, 0 corrupt: 100% 21/21 [00:00<?, ?it/s]\n",
            "Image sizes 800 train, 800 val\n",
            "Using 2 dataloader workers\n",
            "Logging results to \u001b[1mruns/detect/train2\u001b[0m\n",
            "Starting training for 10 epochs...\n",
            "Closing dataloader mosaic\n",
            "\u001b[34m\u001b[1malbumentations: \u001b[0mBlur(p=0.01, blur_limit=(3, 7)), MedianBlur(p=0.01, blur_limit=(3, 7)), ToGray(p=0.01), CLAHE(p=0.01, clip_limit=(1, 4.0), tile_grid_size=(8, 8))\n",
            "\n",
            "      Epoch    GPU_mem   box_loss   cls_loss   dfl_loss  Instances       Size\n",
            "       1/10       6.5G      1.862       4.53      1.533         19        800: 100% 2/2 [00:05<00:00,  2.56s/it]\n",
            "/usr/local/lib/python3.10/dist-packages/torch/optim/lr_scheduler.py:136: UserWarning: Detected call of `lr_scheduler.step()` before `optimizer.step()`. In PyTorch 1.1.0 and later, you should call them in the opposite order: `optimizer.step()` before `lr_scheduler.step()`.  Failure to do this will result in PyTorch skipping the first value of the learning rate schedule. See more details at https://pytorch.org/docs/stable/optim.html#how-to-adjust-learning-rate\n",
            "  warnings.warn(\"Detected call of `lr_scheduler.step()` before `optimizer.step()`. \"\n",
            "                 Class     Images  Instances      Box(P          R      mAP50  mAP50-95): 100% 1/1 [00:00<00:00,  1.04it/s]\n",
            "                   all         21         99      0.133      0.336      0.132     0.0335\n",
            "                   car         21         84     0.0332     0.0714      0.028     0.0156\n",
            "              accident         21         15      0.233        0.6      0.236     0.0513\n",
            "\n",
            "      Epoch    GPU_mem   box_loss   cls_loss   dfl_loss  Instances       Size\n",
            "       2/10       6.5G      1.883      4.827      1.468         21        800: 100% 2/2 [00:01<00:00,  1.27it/s]\n",
            "                 Class     Images  Instances      Box(P          R      mAP50  mAP50-95): 100% 1/1 [00:01<00:00,  1.01s/it]\n",
            "                   all         21         99      0.119      0.302      0.119     0.0325\n",
            "                   car         21         84      0.028     0.0714     0.0284     0.0156\n",
            "              accident         21         15       0.21      0.533      0.209     0.0493\n",
            "\n",
            "      Epoch    GPU_mem   box_loss   cls_loss   dfl_loss  Instances       Size\n",
            "       3/10      6.51G       1.83      4.721      1.547         22        800: 100% 2/2 [00:01<00:00,  1.31it/s]\n",
            "                 Class     Images  Instances      Box(P          R      mAP50  mAP50-95): 100% 1/1 [00:00<00:00,  1.37it/s]\n",
            "                   all         21         99      0.134      0.336       0.14     0.0401\n",
            "                   car         21         84     0.0257     0.0714     0.0416     0.0231\n",
            "              accident         21         15      0.242        0.6      0.238      0.057\n",
            "\n",
            "      Epoch    GPU_mem   box_loss   cls_loss   dfl_loss  Instances       Size\n",
            "       4/10      6.52G      1.697      4.747       1.52         14        800: 100% 2/2 [00:02<00:00,  1.16s/it]\n",
            "                 Class     Images  Instances      Box(P          R      mAP50  mAP50-95): 100% 1/1 [00:00<00:00,  1.45it/s]\n",
            "                   all         21         99      0.143      0.336      0.148      0.045\n",
            "                   car         21         84     0.0238     0.0714     0.0439     0.0247\n",
            "              accident         21         15      0.263        0.6      0.251     0.0654\n",
            "\n",
            "      Epoch    GPU_mem   box_loss   cls_loss   dfl_loss  Instances       Size\n",
            "       5/10      6.52G        1.8      4.513      1.492         22        800: 100% 2/2 [00:01<00:00,  1.29it/s]\n",
            "                 Class     Images  Instances      Box(P          R      mAP50  mAP50-95): 100% 1/1 [00:00<00:00,  1.37it/s]\n",
            "                   all         21         99      0.125      0.236      0.127     0.0444\n",
            "                   car         21         84      0.028     0.0714     0.0563      0.031\n",
            "              accident         21         15      0.221        0.4      0.199     0.0578\n",
            "\n",
            "      Epoch    GPU_mem   box_loss   cls_loss   dfl_loss  Instances       Size\n",
            "       6/10      6.52G       1.86       4.11      1.418         20        800: 100% 2/2 [00:01<00:00,  1.28it/s]\n",
            "                 Class     Images  Instances      Box(P          R      mAP50  mAP50-95): 100% 1/1 [00:00<00:00,  1.40it/s]\n",
            "                   all         21         99      0.127      0.346      0.139     0.0494\n",
            "                   car         21         84     0.0937      0.333      0.112     0.0598\n",
            "              accident         21         15      0.161      0.358      0.165      0.039\n",
            "\n",
            "      Epoch    GPU_mem   box_loss   cls_loss   dfl_loss  Instances       Size\n",
            "       7/10      6.52G      1.369      3.408      1.324         14        800: 100% 2/2 [00:01<00:00,  1.32it/s]\n",
            "                 Class     Images  Instances      Box(P          R      mAP50  mAP50-95): 100% 1/1 [00:00<00:00,  1.35it/s]\n",
            "                   all         21         99      0.138      0.275      0.161      0.082\n",
            "                   car         21         84      0.209      0.417       0.25      0.148\n",
            "              accident         21         15     0.0664      0.133     0.0719     0.0157\n",
            "\n",
            "      Epoch    GPU_mem   box_loss   cls_loss   dfl_loss  Instances       Size\n",
            "       8/10      6.52G       1.52      2.719      1.435         15        800: 100% 2/2 [00:01<00:00,  1.09it/s]\n",
            "                 Class     Images  Instances      Box(P          R      mAP50  mAP50-95): 100% 1/1 [00:00<00:00,  1.44it/s]\n",
            "                   all         21         99      0.838      0.179      0.256      0.152\n",
            "                   car         21         84      0.676      0.357      0.459      0.287\n",
            "              accident         21         15          1          0     0.0533     0.0165\n",
            "\n",
            "      Epoch    GPU_mem   box_loss   cls_loss   dfl_loss  Instances       Size\n",
            "       9/10      6.52G      1.642        2.4      1.418         21        800: 100% 2/2 [00:01<00:00,  1.16it/s]\n",
            "                 Class     Images  Instances      Box(P          R      mAP50  mAP50-95): 100% 1/1 [00:00<00:00,  1.41it/s]\n",
            "                   all         21         99      0.938      0.173      0.273      0.158\n",
            "                   car         21         84      0.877      0.345      0.478      0.297\n",
            "              accident         21         15          1          0     0.0681     0.0187\n",
            "\n",
            "      Epoch    GPU_mem   box_loss   cls_loss   dfl_loss  Instances       Size\n",
            "      10/10      6.53G      1.434      2.186      1.246         18        800: 100% 2/2 [00:01<00:00,  1.30it/s]\n",
            "                 Class     Images  Instances      Box(P          R      mAP50  mAP50-95): 100% 1/1 [00:00<00:00,  1.22it/s]\n",
            "                   all         21         99      0.967      0.167      0.271      0.155\n",
            "                   car         21         84      0.934      0.333      0.469       0.29\n",
            "              accident         21         15          1          0     0.0733       0.02\n",
            "\n",
            "10 epochs completed in 0.011 hours.\n",
            "Optimizer stripped from runs/detect/train2/weights/last.pt, 22.5MB\n",
            "Optimizer stripped from runs/detect/train2/weights/best.pt, 22.5MB\n",
            "\n",
            "Validating runs/detect/train2/weights/best.pt...\n",
            "Ultralytics YOLOv8.0.20 🚀 Python-3.10.12 torch-2.1.0+cu121 CUDA:0 (Tesla T4, 15102MiB)\n",
            "Model summary (fused): 168 layers, 11126358 parameters, 0 gradients, 28.4 GFLOPs\n",
            "                 Class     Images  Instances      Box(P          R      mAP50  mAP50-95): 100% 1/1 [00:00<00:00,  1.12it/s]\n",
            "                   all         21         99      0.931      0.173      0.273      0.158\n",
            "                   car         21         84      0.862      0.345      0.478      0.298\n",
            "              accident         21         15          1          0     0.0674     0.0188\n",
            "Speed: 0.2ms pre-process, 4.6ms inference, 0.0ms loss, 1.7ms post-process per image\n",
            "Results saved to \u001b[1mruns/detect/train2\u001b[0m\n"
          ]
        }
      ],
      "source": [
        "%cd {HOME}  \n",
        "!yolo task=detect mode=train model=yolov8s.pt data=/content/datasets/crash_car/data.yaml epochs=100 imgsz=800 plots=True"
      ]
    }
  ],
  "metadata": {
    "accelerator": "GPU",
    "colab": {
      "gpuType": "T4",
      "provenance": []
    },
    "kernelspec": {
      "display_name": "Python 3",
      "name": "python3"
    },
    "language_info": {
      "name": "python"
    }
  },
  "nbformat": 4,
  "nbformat_minor": 0
}
